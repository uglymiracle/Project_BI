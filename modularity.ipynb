{
 "cells": [
  {
   "cell_type": "code",
   "execution_count": 43,
   "id": "19e018e7",
   "metadata": {},
   "outputs": [],
   "source": [
    "import networkx as nx\n",
    "import pandas as pd\n",
    "import community #python-louvain\n",
    "import matplotlib as plt\n",
    "import goatools"
   ]
  },
  {
   "cell_type": "code",
   "execution_count": 3,
   "id": "6edb23e9",
   "metadata": {},
   "outputs": [],
   "source": [
    "#read nnetwork tables\n",
    "human_GM = pd.read_table('human_netwoks.txt', header=None)\n",
    "human = pd.read_table('human_another_netwoks.txt', header=None)\n",
    "yeast_GM = pd.read_table('yeast_gm_netwoks.txt', header=None)\n",
    "yeast = pd.read_table('yeast_netwoks.txt', header=None)\n",
    "yeast_GM_filter = pd.read_table('yeast_filter_networks.txt', header=None)\n",
    "networks = [yeast, yeast_GM, yeast_GM_filter, human, human_GM]"
   ]
  },
  {
   "cell_type": "code",
   "execution_count": 4,
   "id": "ef03eeb2",
   "metadata": {},
   "outputs": [],
   "source": [
    "#create graphs \n",
    "graphs = []\n",
    "for network in networks:\n",
    "    g = network.drop(network.columns[[2]], axis=1)\n",
    "    g.columns = ['A', 'B']\n",
    "    \n",
    "    graphs.append(nx.from_pandas_edgelist(g, source='A', target='B'))\n"
   ]
  },
  {
   "cell_type": "code",
   "execution_count": 6,
   "id": "382da32b",
   "metadata": {},
   "outputs": [],
   "source": [
    "#modularity calculation\n",
    "part = [community.best_partition(g) for g in graphs]\n",
    "mod = [community.modularity(part[i], graphs[i]) for i in range(len(graphs))]"
   ]
  },
  {
   "cell_type": "code",
   "execution_count": 9,
   "id": "ad6022a8",
   "metadata": {},
   "outputs": [
    {
     "data": {
      "text/html": [
       "<div>\n",
       "<style scoped>\n",
       "    .dataframe tbody tr th:only-of-type {\n",
       "        vertical-align: middle;\n",
       "    }\n",
       "\n",
       "    .dataframe tbody tr th {\n",
       "        vertical-align: top;\n",
       "    }\n",
       "\n",
       "    .dataframe thead th {\n",
       "        text-align: right;\n",
       "    }\n",
       "</style>\n",
       "<table border=\"1\" class=\"dataframe\">\n",
       "  <thead>\n",
       "    <tr style=\"text-align: right;\">\n",
       "      <th></th>\n",
       "      <th>modularity</th>\n",
       "    </tr>\n",
       "  </thead>\n",
       "  <tbody>\n",
       "    <tr>\n",
       "      <th>yeast</th>\n",
       "      <td>0.863634</td>\n",
       "    </tr>\n",
       "    <tr>\n",
       "      <th>yeast_GM</th>\n",
       "      <td>0.537724</td>\n",
       "    </tr>\n",
       "    <tr>\n",
       "      <th>yeast_GM_filter</th>\n",
       "      <td>0.914370</td>\n",
       "    </tr>\n",
       "    <tr>\n",
       "      <th>human</th>\n",
       "      <td>0.727612</td>\n",
       "    </tr>\n",
       "    <tr>\n",
       "      <th>human_GM</th>\n",
       "      <td>0.589393</td>\n",
       "    </tr>\n",
       "  </tbody>\n",
       "</table>\n",
       "</div>"
      ],
      "text/plain": [
       "                 modularity\n",
       "yeast              0.863634\n",
       "yeast_GM           0.537724\n",
       "yeast_GM_filter    0.914370\n",
       "human              0.727612\n",
       "human_GM           0.589393"
      ]
     },
     "execution_count": 9,
     "metadata": {},
     "output_type": "execute_result"
    }
   ],
   "source": [
    "df = pd.DataFrame(mod, index =['yeast', 'yeast_GM', 'yeast_GM_filter', 'human', 'human_GM'],\n",
    "                                              columns =['modularity'])\n",
    "df"
   ]
  }
 ],
 "metadata": {
  "kernelspec": {
   "display_name": "Python 3 (ipykernel)",
   "language": "python",
   "name": "python3"
  },
  "language_info": {
   "codemirror_mode": {
    "name": "ipython",
    "version": 3
   },
   "file_extension": ".py",
   "mimetype": "text/x-python",
   "name": "python",
   "nbconvert_exporter": "python",
   "pygments_lexer": "ipython3",
   "version": "3.9.16"
  }
 },
 "nbformat": 4,
 "nbformat_minor": 5
}
