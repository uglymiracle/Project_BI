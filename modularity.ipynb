{
 "cells": [
  {
   "cell_type": "code",
   "execution_count": 1,
   "id": "ff65c33c",
   "metadata": {},
   "outputs": [
    {
     "name": "stdout",
     "output_type": "stream",
     "text": [
      "Requirement already satisfied: networkx==3.1 in /Users/miracle/anaconda3/envs/py3.9/lib/python3.9/site-packages (3.1)\n",
      "Note: you may need to restart the kernel to use updated packages.\n"
     ]
    }
   ],
   "source": [
    "# BE CAREFUL, this will cause a version change in your system, use in a virtual environment\n",
    "%pip install networkx==3.1"
   ]
  },
  {
   "cell_type": "code",
   "execution_count": 7,
   "id": "19e018e7",
   "metadata": {},
   "outputs": [],
   "source": [
    "import networkx as nx\n",
    "import pandas as pd\n",
    "import community.community_louvain as community #python-louvain"
   ]
  },
  {
   "cell_type": "code",
   "execution_count": 4,
   "id": "6edb23e9",
   "metadata": {},
   "outputs": [],
   "source": [
    "#read network tables\n",
    "human_GM = pd.read_table('../human_netwoks.txt', header=None)\n",
    "human = pd.read_table('../human_another_netwoks.txt', header=None)\n",
    "yeast_GM = pd.read_table('../yeast_gm_netwoks.txt', header=None)\n",
    "yeast = pd.read_table('../yeast_netwoks.txt', header=None)\n",
    "yeast_GM_filter = pd.read_table('../yeast_filter_networks.txt', header=None)\n",
    "networks = [yeast, yeast_GM, yeast_GM_filter, human, human_GM]"
   ]
  },
  {
   "cell_type": "code",
   "execution_count": 8,
   "id": "ef03eeb2",
   "metadata": {},
   "outputs": [],
   "source": [
    "#create graphs \n",
    "graphs = []\n",
    "for network in networks:\n",
    "    g = network.drop(network.columns[[2]], axis=1)\n",
    "    g.columns = ['A', 'B']\n",
    "    \n",
    "    graphs.append(nx.from_pandas_edgelist(g, source='A', target='B'))\n"
   ]
  },
  {
   "cell_type": "code",
   "execution_count": 9,
   "id": "382da32b",
   "metadata": {},
   "outputs": [],
   "source": [
    "#modularity calculation\n",
    "part = [community.best_partition(g) for g in graphs]\n",
    "mod = [community.modularity(part[i], graphs[i]) for i in range(len(graphs))]"
   ]
  },
  {
   "cell_type": "code",
   "execution_count": 10,
   "id": "ad6022a8",
   "metadata": {},
   "outputs": [
    {
     "data": {
      "text/html": [
       "<div>\n",
       "<style scoped>\n",
       "    .dataframe tbody tr th:only-of-type {\n",
       "        vertical-align: middle;\n",
       "    }\n",
       "\n",
       "    .dataframe tbody tr th {\n",
       "        vertical-align: top;\n",
       "    }\n",
       "\n",
       "    .dataframe thead th {\n",
       "        text-align: right;\n",
       "    }\n",
       "</style>\n",
       "<table border=\"1\" class=\"dataframe\">\n",
       "  <thead>\n",
       "    <tr style=\"text-align: right;\">\n",
       "      <th></th>\n",
       "      <th>modularity</th>\n",
       "    </tr>\n",
       "  </thead>\n",
       "  <tbody>\n",
       "    <tr>\n",
       "      <th>yeast</th>\n",
       "      <td>0.863634</td>\n",
       "    </tr>\n",
       "    <tr>\n",
       "      <th>yeast_GM</th>\n",
       "      <td>0.537613</td>\n",
       "    </tr>\n",
       "    <tr>\n",
       "      <th>yeast_GM_filter</th>\n",
       "      <td>0.914891</td>\n",
       "    </tr>\n",
       "    <tr>\n",
       "      <th>human</th>\n",
       "      <td>0.727004</td>\n",
       "    </tr>\n",
       "    <tr>\n",
       "      <th>human_GM</th>\n",
       "      <td>0.589865</td>\n",
       "    </tr>\n",
       "  </tbody>\n",
       "</table>\n",
       "</div>"
      ],
      "text/plain": [
       "                 modularity\n",
       "yeast              0.863634\n",
       "yeast_GM           0.537613\n",
       "yeast_GM_filter    0.914891\n",
       "human              0.727004\n",
       "human_GM           0.589865"
      ]
     },
     "execution_count": 10,
     "metadata": {},
     "output_type": "execute_result"
    }
   ],
   "source": [
    "df = pd.DataFrame(mod, index =['yeast', 'yeast_GM', 'yeast_GM_filter', 'human', 'human_GM'],\n",
    "                                              columns =['modularity'])\n",
    "df"
   ]
  },
  {
   "cell_type": "code",
   "execution_count": null,
   "id": "406d43a0",
   "metadata": {},
   "outputs": [],
   "source": []
  }
 ],
 "metadata": {
  "kernelspec": {
   "display_name": "Python 3 (ipykernel)",
   "language": "python",
   "name": "python3"
  },
  "language_info": {
   "codemirror_mode": {
    "name": "ipython",
    "version": 3
   },
   "file_extension": ".py",
   "mimetype": "text/x-python",
   "name": "python",
   "nbconvert_exporter": "python",
   "pygments_lexer": "ipython3",
   "version": "3.9.16"
  }
 },
 "nbformat": 4,
 "nbformat_minor": 5
}
