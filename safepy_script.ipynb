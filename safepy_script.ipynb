{
 "cells": [
  {
   "cell_type": "code",
   "execution_count": 1,
   "id": "1c3ba977",
   "metadata": {},
   "outputs": [
    {
     "name": "stdout",
     "output_type": "stream",
     "text": [
      "Collecting networkx==2.8.7\n",
      "  Using cached networkx-2.8.7-py3-none-any.whl (2.0 MB)\n",
      "Installing collected packages: networkx\n",
      "  Attempting uninstall: networkx\n",
      "    Found existing installation: networkx 3.1\n",
      "    Uninstalling networkx-3.1:\n",
      "      Successfully uninstalled networkx-3.1\n",
      "Successfully installed networkx-2.8.7\n",
      "Note: you may need to restart the kernel to use updated packages.\n"
     ]
    }
   ],
   "source": [
    "# BE CAREFUL, this will cause a version change in your system, use in a virtual environment\n",
    "%pip install networkx==2.8.7"
   ]
  },
  {
   "cell_type": "code",
   "execution_count": 12,
   "id": "86302b0d",
   "metadata": {},
   "outputs": [],
   "source": [
    "import sys\n",
    "sys.path.append(\"/Users/miracle/Desktop/safepy\")\n",
    "from os.path import expanduser\n",
    "\n",
    "# Add path to folder containing safepy\n",
    "sys.path.append(expanduser('~') + '/Lab/Utils/Python/Networks/safepy/')\n",
    "\n",
    "import safe\n",
    "from goatools import obo_parser\n",
    "import pandas as pd\n",
    "import matplotlib as plt\n",
    "\n",
    "%matplotlib inline"
   ]
  },
  {
   "cell_type": "markdown",
   "id": "1b9fa39b",
   "metadata": {},
   "source": [
    "Use this command to create annotations:\n",
    "\n",
    "python3.8 safepy/utils/make_go.py --path-to-obo ../Downloads/go.obo --path-to-annotations ../Downloads/wb.gaf.gz\n",
    "\n",
    "The files are taken from here:\n",
    "\n",
    "obo - http://geneontology.org/docs/download-ontology/\n",
    "\n",
    "annotations - http://current.geneontology.org/products/pages/downloads.html"
   ]
  },
  {
   "cell_type": "code",
   "execution_count": null,
   "id": "f3ef96c1",
   "metadata": {},
   "outputs": [],
   "source": [
    "networks = ['yeast_netwoks.txt', 'yeast_gm_netwoks.txt', 'yeast_filter_networks.txt',\n",
    "            'human_netwoks.txt', 'human_another_netwoks.txt']\n",
    "annotate_matrix = ['yeast_annotate_matrix.txt', 'yeast_annotate_matrix.txt', 'yeast_annotate_matrix.txt',\n",
    "                   'human_annotate_matrix.txt', 'human_annotate_matrix.txt']"
   ]
  },
  {
   "cell_type": "code",
   "execution_count": null,
   "id": "946c668c",
   "metadata": {},
   "outputs": [],
   "source": [
    "# The same operations are performed for each matrix, so a loop is used to avoid code duplication\n",
    "\n",
    "sfs = []\n",
    "go = obo_parser.GODag('../../Downloads/go-basic.obo')\n",
    "\n",
    "for i in range(len(networks)):\n",
    "    \n",
    "    sf = safe.SAFE() #create safe object\n",
    "    sf.load_network(network_file=networks[i]) #read network\n",
    "    sf.load_attributes(attribute_file=annotate_matrix[i]) #download annotation\n",
    "    #find neighborhoods \n",
    "    sf.define_neighborhoods(node_distance_metric='shortpath_weighted_layout', neighborhood_radius=0.15)\n",
    "    sf.compute_pvalues(multiple_testing=False)\n",
    "    \n",
    "    #change GO names to id (without 'GO:')\n",
    "    for go_id in sf.attributes.name:\n",
    "        go_term = go_id.split(':')[1]\n",
    "        sf.attributes.name.replace(go_id, go_term, inplace=True)\n",
    "    \n",
    "    #clustering\n",
    "    sf.define_top_attributes()\n",
    "    sf.define_domains(attribute_distance_threshold = 0.65)\n",
    "    sf.trim_domains()\n",
    "    \n",
    "    #change GO id to description\n",
    "    for cluster in sf.domains.label.items():\n",
    "        terms = ''\n",
    "    for GO_number in cluster[1].split(', '):\n",
    "        term = go['GO:'+GO_number].name\n",
    "        terms+='\\n'+term\n",
    "    sf.domains.label.replace(cluster, str(terms), inplace=True)\n",
    "    \n",
    "    sfs.append(sf)"
   ]
  },
  {
   "cell_type": "markdown",
   "id": "a30a4a9f",
   "metadata": {},
   "source": [
    "### You can refer to different objects by the index"
   ]
  },
  {
   "cell_type": "code",
   "execution_count": null,
   "id": "2a6e00e8",
   "metadata": {},
   "outputs": [],
   "source": [
    "#plot of network\n",
    "sfs[4].plot_network()"
   ]
  },
  {
   "cell_type": "code",
   "execution_count": null,
   "id": "2425f28e",
   "metadata": {},
   "outputs": [],
   "source": [
    "#this is how you can save pictures with clusters\n",
    "sf[1].plot_composite_network(show_each_domain=True,\n",
    "                         save_fig='aaaa.svg')"
   ]
  }
 ],
 "metadata": {
  "kernelspec": {
   "display_name": "Python 3 (ipykernel)",
   "language": "python",
   "name": "python3"
  },
  "language_info": {
   "codemirror_mode": {
    "name": "ipython",
    "version": 3
   },
   "file_extension": ".py",
   "mimetype": "text/x-python",
   "name": "python",
   "nbconvert_exporter": "python",
   "pygments_lexer": "ipython3",
   "version": "3.9.16"
  }
 },
 "nbformat": 4,
 "nbformat_minor": 5
}
